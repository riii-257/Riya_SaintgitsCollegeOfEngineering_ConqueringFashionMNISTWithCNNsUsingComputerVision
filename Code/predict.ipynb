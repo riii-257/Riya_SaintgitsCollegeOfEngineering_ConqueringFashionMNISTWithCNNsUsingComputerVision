{
 "cells": [
  {
   "cell_type": "code",
   "execution_count": 5,
   "id": "1cd4cb9a-43fa-46c2-a505-9eb50ae9546e",
   "metadata": {},
   "outputs": [],
   "source": [
    "import tensorflow as tf\n",
    "from tensorflow.keras.datasets import fashion_mnist\n",
    "from tensorflow.keras.models import load_model\n",
    "from tensorflow.keras.preprocessing import image\n",
    "import numpy as np"
   ]
  },
  {
   "cell_type": "code",
   "execution_count": 6,
   "id": "3b5e20d3-596f-4382-acce-7c7992922ab8",
   "metadata": {},
   "outputs": [
    {
     "name": "stderr",
     "output_type": "stream",
     "text": [
      "2023-07-14 21:33:12.311896: I tensorflow/core/common_runtime/process_util.cc:146] Creating new thread pool with default inter op setting: \n"
     ]
    }
   ],
   "source": [
    "# Load the trained model\n",
    "model = load_model('final_model.h5')"
   ]
  },
  {
   "cell_type": "code",
   "execution_count": 30,
   "id": "c6194656-1695-42ac-ac9c-14a46113b138",
   "metadata": {},
   "outputs": [],
   "source": [
    "# Load and preprocess the custom image\n",
    "img_path = 'custom_image.jpg'\n",
    "img = image.load_img(img_path, target_size=(28, 28), color_mode='grayscale')\n",
    "img_array = image.img_to_array(img)\n",
    "img_array /= 255.0\n",
    "img_array = np.expand_dims(img_array, axis=0)"
   ]
  },
  {
   "cell_type": "code",
   "execution_count": 27,
   "id": "8a5d853e-bf19-4a0c-9905-08500098e0bc",
   "metadata": {},
   "outputs": [
    {
     "name": "stdout",
     "output_type": "stream",
     "text": [
      "1/1 [==============================] - 0s 24ms/step\n"
     ]
    }
   ],
   "source": [
    "# Make predictions\n",
    "predictions = model.predict(img_array)\n",
    "predicted_label = np.argmax(predictions[0])"
   ]
  },
  {
   "cell_type": "code",
   "execution_count": 28,
   "id": "a1080a9c-2194-41b6-ad1b-715902f79f4e",
   "metadata": {},
   "outputs": [],
   "source": [
    "# Get the class labels\n",
    "class_labels = ['T-shirt/top', 'Trouser', 'Pullover', 'Dress', 'Coat',\n",
    "                'Sandal', 'Shirt', 'Sneaker', 'Bag', 'Ankle boot']"
   ]
  },
  {
   "cell_type": "code",
   "execution_count": 29,
   "id": "60f7e7f1-a60c-4c9b-8d71-9378c54e6fbe",
   "metadata": {},
   "outputs": [
    {
     "name": "stdout",
     "output_type": "stream",
     "text": [
      "Predicted Label: Pullover\n"
     ]
    }
   ],
   "source": [
    "# Print the predicted label\n",
    "print('Predicted Label:', class_labels[predicted_label])"
   ]
  },
  {
   "cell_type": "code",
   "execution_count": null,
   "id": "dca62694-3f24-4c14-b180-be63c3f51403",
   "metadata": {},
   "outputs": [],
   "source": []
  }
 ],
 "metadata": {
  "kernelspec": {
   "display_name": "Tensorflow (AI kit)",
   "language": "python",
   "name": "c009-intel_distribution_of_python_3_oneapi-beta05-tf"
  },
  "language_info": {
   "codemirror_mode": {
    "name": "ipython",
    "version": 3
   },
   "file_extension": ".py",
   "mimetype": "text/x-python",
   "name": "python",
   "nbconvert_exporter": "python",
   "pygments_lexer": "ipython3",
   "version": "3.9.16"
  }
 },
 "nbformat": 4,
 "nbformat_minor": 5
}
