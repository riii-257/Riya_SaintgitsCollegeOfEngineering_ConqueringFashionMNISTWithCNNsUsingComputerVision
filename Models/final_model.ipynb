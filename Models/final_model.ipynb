{
 "cells": [
  {
   "cell_type": "code",
   "execution_count": 3,
   "id": "ae4d496c-cd2e-43ed-8414-e30a48615919",
   "metadata": {},
   "outputs": [
    {
     "name": "stderr",
     "output_type": "stream",
     "text": [
      "2023-07-14 08:32:48.172391: I tensorflow/core/platform/cpu_feature_guard.cc:182] This TensorFlow binary is optimized to use available CPU instructions in performance-critical operations.\n",
      "To enable the following instructions: AVX2 AVX512F FMA, in other operations, rebuild TensorFlow with the appropriate compiler flags.\n"
     ]
    }
   ],
   "source": [
    "import tensorflow as tf\n",
    "from tensorflow.keras.datasets import fashion_mnist\n",
    "from tensorflow.keras.models import Sequential\n",
    "from tensorflow.keras.layers import Conv2D, MaxPooling2D, Flatten, Dense, BatchNormalization, Dropout\n",
    "from tensorflow.keras.optimizers import Adam\n",
    "from tensorflow.keras.preprocessing.image import ImageDataGenerator\n",
    "from tensorflow.keras.callbacks import LearningRateScheduler"
   ]
  },
  {
   "cell_type": "code",
   "execution_count": 4,
   "id": "b86dd9b7-a475-4e8d-8315-74a9c12edb26",
   "metadata": {},
   "outputs": [],
   "source": [
    "# Loading data\n",
    "(x_train, y_train), (x_test, y_test) = fashion_mnist.load_data()"
   ]
  },
  {
   "cell_type": "code",
   "execution_count": 5,
   "id": "4d7c6ae0-207c-4c75-a3b3-4e658e0e1b46",
   "metadata": {},
   "outputs": [],
   "source": [
    "# Preprocessing data\n",
    "x_train = x_train.reshape((x_train.shape[0], 28, 28, 1)) / 255.0\n",
    "x_test = x_test.reshape((x_test.shape[0], 28, 28, 1)) / 255.0"
   ]
  },
  {
   "cell_type": "code",
   "execution_count": 6,
   "id": "4a0aa625-d983-4d7c-bf95-f96540af5144",
   "metadata": {},
   "outputs": [],
   "source": [
    "# Apply data augmentation\n",
    "datagen = ImageDataGenerator(rotation_range=10, width_shift_range=0.1, height_shift_range=0.1, horizontal_flip=True)\n",
    "datagen.fit(x_train)"
   ]
  },
  {
   "cell_type": "code",
   "execution_count": 7,
   "id": "6de9f040-e526-4250-bc18-4196b11a2bee",
   "metadata": {},
   "outputs": [],
   "source": [
    "# Learning rate scheduler\n",
    "def lr_schedule(epoch):\n",
    "    initial_learning_rate = 0.001\n",
    "    decay_rate = 0.9\n",
    "    decay_steps = 5\n",
    "    lr = initial_learning_rate * decay_rate**(epoch // decay_steps)\n",
    "    return lr"
   ]
  },
  {
   "cell_type": "code",
   "execution_count": 8,
   "id": "35d47490-3723-4348-95aa-c0c4891db983",
   "metadata": {},
   "outputs": [
    {
     "name": "stderr",
     "output_type": "stream",
     "text": [
      "2023-07-14 08:33:46.868857: I tensorflow/core/common_runtime/process_util.cc:146] Creating new thread pool with default inter op setting: \n"
     ]
    }
   ],
   "source": [
    "# Build the model within the strategy's scope\n",
    "model = Sequential()\n",
    "model.add(Conv2D(32, (3, 3), activation='relu', input_shape=(28, 28, 1)))\n",
    "model.add(BatchNormalization())\n",
    "model.add(Conv2D(64, (3, 3), activation='relu'))\n",
    "model.add(MaxPooling2D((2, 2)))\n",
    "model.add(BatchNormalization())\n",
    "model.add(Conv2D(128, (3, 3), activation='relu'))\n",
    "model.add(MaxPooling2D((2, 2)))\n",
    "model.add(Flatten())\n",
    "model.add(Dense(128, activation='relu'))\n",
    "model.add(Dropout(0.2))\n",
    "model.add(Dense(10, activation='softmax'))"
   ]
  },
  {
   "cell_type": "code",
   "execution_count": 9,
   "id": "d1dcf8f2-baeb-4784-a518-d0fefa5abac9",
   "metadata": {},
   "outputs": [],
   "source": [
    "# Compile the model\n",
    "model.compile(optimizer=Adam(),\n",
    "              loss='sparse_categorical_crossentropy',\n",
    "              metrics=['accuracy'])"
   ]
  },
  {
   "cell_type": "code",
   "execution_count": 10,
   "id": "0f43f013-ae40-4d80-a69c-dd3c018e4cf0",
   "metadata": {},
   "outputs": [],
   "source": [
    "# Create a learning rate scheduler callback\n",
    "lr_scheduler = LearningRateScheduler(lr_schedule)"
   ]
  },
  {
   "cell_type": "code",
   "execution_count": 11,
   "id": "18047717-7529-4c02-9071-39850c52e148",
   "metadata": {},
   "outputs": [
    {
     "name": "stderr",
     "output_type": "stream",
     "text": [
      "2023-07-14 08:33:47.429350: I tensorflow/core/common_runtime/executor.cc:1197] [/device:CPU:0] (DEBUG INFO) Executor start aborting (this does not indicate an error and you can ignore this message): INVALID_ARGUMENT: You must feed a value for placeholder tensor 'Placeholder/_0' with dtype int32\n",
      "\t [[{{node Placeholder/_0}}]]\n"
     ]
    },
    {
     "name": "stdout",
     "output_type": "stream",
     "text": [
      "Epoch 1/10\n",
      "938/938 [==============================] - 310s 329ms/step - loss: 0.6660 - accuracy: 0.7516 - val_loss: 0.4045 - val_accuracy: 0.8523\n",
      "Epoch 2/10\n",
      "938/938 [==============================] - 328s 350ms/step - loss: 0.4591 - accuracy: 0.8328 - val_loss: 0.3546 - val_accuracy: 0.8662\n",
      "Epoch 3/10\n",
      "938/938 [==============================] - 322s 343ms/step - loss: 0.3887 - accuracy: 0.8575 - val_loss: 0.3085 - val_accuracy: 0.8896\n",
      "Epoch 4/10\n",
      "938/938 [==============================] - 329s 350ms/step - loss: 0.3591 - accuracy: 0.8695 - val_loss: 0.2973 - val_accuracy: 0.8962\n",
      "Epoch 5/10\n",
      "938/938 [==============================] - 313s 334ms/step - loss: 0.3380 - accuracy: 0.8759 - val_loss: 0.3419 - val_accuracy: 0.8806\n",
      "Epoch 6/10\n",
      "938/938 [==============================] - 314s 335ms/step - loss: 0.3228 - accuracy: 0.8811 - val_loss: 0.2704 - val_accuracy: 0.9026\n",
      "Epoch 7/10\n",
      "938/938 [==============================] - 309s 329ms/step - loss: 0.3077 - accuracy: 0.8881 - val_loss: 0.2775 - val_accuracy: 0.9037\n",
      "Epoch 8/10\n",
      "938/938 [==============================] - 309s 330ms/step - loss: 0.3020 - accuracy: 0.8891 - val_loss: 0.2639 - val_accuracy: 0.9063\n",
      "Epoch 9/10\n",
      "938/938 [==============================] - 316s 337ms/step - loss: 0.2949 - accuracy: 0.8942 - val_loss: 0.2747 - val_accuracy: 0.9038\n",
      "Epoch 10/10\n",
      "938/938 [==============================] - 314s 335ms/step - loss: 0.2852 - accuracy: 0.8957 - val_loss: 0.2547 - val_accuracy: 0.9101\n"
     ]
    },
    {
     "data": {
      "text/plain": [
       "<keras.callbacks.History at 0x7f3d2c085b80>"
      ]
     },
     "execution_count": 11,
     "metadata": {},
     "output_type": "execute_result"
    }
   ],
   "source": [
    "# Train model\n",
    "model.fit(datagen.flow(x_train, y_train, batch_size=64), epochs=10, validation_data=(x_test, y_test))"
   ]
  },
  {
   "cell_type": "code",
   "execution_count": 12,
   "id": "5cf2e80d-f3f5-40c7-aa9a-443a06efd7a5",
   "metadata": {},
   "outputs": [
    {
     "name": "stdout",
     "output_type": "stream",
     "text": [
      "313/313 [==============================] - 2s 8ms/step - loss: 0.2547 - accuracy: 0.9101\n",
      "Test accuracy: 0.910099983215332\n"
     ]
    }
   ],
   "source": [
    "# Evaluate model\n",
    "test_loss, test_acc = model.evaluate(x_test, y_test)\n",
    "print('Test accuracy:', test_acc)"
   ]
  },
  {
   "cell_type": "code",
   "execution_count": null,
   "id": "98263667-4fa2-45b5-b51a-64d3720b98e8",
   "metadata": {},
   "outputs": [],
   "source": [
    "# Save the model\n",
    "model.save('final_model.h5')"
   ]
  },
  {
   "cell_type": "code",
   "execution_count": null,
   "id": "0c36c834-8061-448c-82a2-44964719bf6d",
   "metadata": {},
   "outputs": [],
   "source": []
  }
 ],
 "metadata": {
  "kernelspec": {
   "display_name": "Tensorflow (AI kit)",
   "language": "python",
   "name": "c009-intel_distribution_of_python_3_oneapi-beta05-tf"
  },
  "language_info": {
   "codemirror_mode": {
    "name": "ipython",
    "version": 3
   },
   "file_extension": ".py",
   "mimetype": "text/x-python",
   "name": "python",
   "nbconvert_exporter": "python",
   "pygments_lexer": "ipython3",
   "version": "3.9.16"
  }
 },
 "nbformat": 4,
 "nbformat_minor": 5
}
