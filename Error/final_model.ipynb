{
 "cells": [
  {
   "cell_type": "code",
   "execution_count": 2,
   "id": "ae4d496c-cd2e-43ed-8414-e30a48615919",
   "metadata": {},
   "outputs": [
    {
     "name": "stderr",
     "output_type": "stream",
     "text": [
      "2023-07-15 00:32:19.641124: I tensorflow/core/platform/cpu_feature_guard.cc:182] This TensorFlow binary is optimized to use available CPU instructions in performance-critical operations.\n",
      "To enable the following instructions: AVX2 AVX512F FMA, in other operations, rebuild TensorFlow with the appropriate compiler flags.\n"
     ]
    },
    {
     "name": "stdout",
     "output_type": "stream",
     "text": [
      "Defaulting to user installation because normal site-packages is not writeable\n",
      "Requirement already satisfied: intel-tensorflow in /home/u194055/.local/lib/python3.9/site-packages (2.12.0)\n",
      "Requirement already satisfied: protobuf!=4.21.0,!=4.21.1,!=4.21.2,!=4.21.3,!=4.21.4,!=4.21.5,<5.0.0dev,>=3.20.3 in /home/u194055/.local/lib/python3.9/site-packages (from intel-tensorflow) (4.23.4)\n",
      "Requirement already satisfied: typing-extensions>=3.6.6 in /glob/development-tools/versions/oneapi/2023.1.2/oneapi/intelpython/python3.9/lib/python3.9/site-packages (from intel-tensorflow) (4.6.3)\n",
      "Requirement already satisfied: astunparse>=1.6.0 in /home/u194055/.local/lib/python3.9/site-packages (from intel-tensorflow) (1.6.3)\n",
      "Requirement already satisfied: jax>=0.3.15 in /home/u194055/.local/lib/python3.9/site-packages (from intel-tensorflow) (0.4.13)\n",
      "Requirement already satisfied: keras<2.13,>=2.12.0 in /home/u194055/.local/lib/python3.9/site-packages (from intel-tensorflow) (2.12.0)\n",
      "Requirement already satisfied: six>=1.12.0 in /glob/development-tools/versions/oneapi/2023.1.2/oneapi/intelpython/python3.9/lib/python3.9/site-packages (from intel-tensorflow) (1.16.0)\n",
      "Requirement already satisfied: wrapt<1.15,>=1.11.0 in /home/u194055/.local/lib/python3.9/site-packages (from intel-tensorflow) (1.14.1)\n",
      "Requirement already satisfied: tensorboard<2.13,>=2.12 in /home/u194055/.local/lib/python3.9/site-packages (from intel-tensorflow) (2.12.3)\n",
      "Requirement already satisfied: numpy<1.24,>=1.22 in /home/u194055/.local/lib/python3.9/site-packages (from intel-tensorflow) (1.22.4)\n",
      "Requirement already satisfied: absl-py>=1.0.0 in /home/u194055/.local/lib/python3.9/site-packages (from intel-tensorflow) (1.4.0)\n",
      "Requirement already satisfied: google-pasta>=0.1.1 in /home/u194055/.local/lib/python3.9/site-packages (from intel-tensorflow) (0.2.0)\n",
      "Requirement already satisfied: tensorflow-estimator<2.13,>=2.12.0 in /home/u194055/.local/lib/python3.9/site-packages (from intel-tensorflow) (2.12.0)\n",
      "Requirement already satisfied: flatbuffers>=2.0 in /home/u194055/.local/lib/python3.9/site-packages (from intel-tensorflow) (23.5.26)\n",
      "Requirement already satisfied: tensorflow-io-gcs-filesystem>=0.23.1 in /home/u194055/.local/lib/python3.9/site-packages (from intel-tensorflow) (0.32.0)\n",
      "Requirement already satisfied: packaging in /glob/development-tools/versions/oneapi/2023.1.2/oneapi/intelpython/python3.9/lib/python3.9/site-packages (from intel-tensorflow) (22.0)\n",
      "Requirement already satisfied: libclang>=13.0.0 in /home/u194055/.local/lib/python3.9/site-packages (from intel-tensorflow) (16.0.0)\n",
      "Requirement already satisfied: grpcio<2.0,>=1.24.3 in /home/u194055/.local/lib/python3.9/site-packages (from intel-tensorflow) (1.56.0)\n",
      "Requirement already satisfied: termcolor>=1.1.0 in /home/u194055/.local/lib/python3.9/site-packages (from intel-tensorflow) (2.3.0)\n",
      "Requirement already satisfied: opt-einsum>=2.3.2 in /home/u194055/.local/lib/python3.9/site-packages (from intel-tensorflow) (3.3.0)\n",
      "Requirement already satisfied: setuptools in /glob/development-tools/versions/oneapi/2023.1.2/oneapi/intelpython/python3.9/lib/python3.9/site-packages (from intel-tensorflow) (65.6.3)\n",
      "Requirement already satisfied: h5py>=2.9.0 in /home/u194055/.local/lib/python3.9/site-packages (from intel-tensorflow) (3.9.0)\n",
      "Requirement already satisfied: gast<=0.4.0,>=0.2.1 in /home/u194055/.local/lib/python3.9/site-packages (from intel-tensorflow) (0.4.0)\n",
      "Requirement already satisfied: wheel<1.0,>=0.23.0 in /glob/development-tools/versions/oneapi/2023.1.2/oneapi/intelpython/python3.9/lib/python3.9/site-packages (from astunparse>=1.6.0->intel-tensorflow) (0.38.4)\n",
      "Requirement already satisfied: importlib-metadata>=4.6 in /glob/development-tools/versions/oneapi/2023.1.2/oneapi/intelpython/python3.9/lib/python3.9/site-packages (from jax>=0.3.15->intel-tensorflow) (6.6.0)\n",
      "Requirement already satisfied: ml-dtypes>=0.1.0 in /home/u194055/.local/lib/python3.9/site-packages (from jax>=0.3.15->intel-tensorflow) (0.2.0)\n",
      "Requirement already satisfied: scipy>=1.7 in /glob/development-tools/versions/oneapi/2023.1.2/oneapi/intelpython/python3.9/lib/python3.9/site-packages (from jax>=0.3.15->intel-tensorflow) (1.7.3)\n",
      "Requirement already satisfied: requests<3,>=2.21.0 in /glob/development-tools/versions/oneapi/2023.1.2/oneapi/intelpython/python3.9/lib/python3.9/site-packages (from tensorboard<2.13,>=2.12->intel-tensorflow) (2.28.1)\n",
      "Requirement already satisfied: werkzeug>=1.0.1 in /home/u194055/.local/lib/python3.9/site-packages (from tensorboard<2.13,>=2.12->intel-tensorflow) (2.3.6)\n",
      "Requirement already satisfied: google-auth-oauthlib<1.1,>=0.5 in /home/u194055/.local/lib/python3.9/site-packages (from tensorboard<2.13,>=2.12->intel-tensorflow) (1.0.0)\n",
      "Requirement already satisfied: google-auth<3,>=1.6.3 in /home/u194055/.local/lib/python3.9/site-packages (from tensorboard<2.13,>=2.12->intel-tensorflow) (2.22.0)\n",
      "Requirement already satisfied: markdown>=2.6.8 in /home/u194055/.local/lib/python3.9/site-packages (from tensorboard<2.13,>=2.12->intel-tensorflow) (3.4.3)\n",
      "Requirement already satisfied: tensorboard-data-server<0.8.0,>=0.7.0 in /home/u194055/.local/lib/python3.9/site-packages (from tensorboard<2.13,>=2.12->intel-tensorflow) (0.7.1)\n",
      "Requirement already satisfied: pyasn1-modules>=0.2.1 in /home/u194055/.local/lib/python3.9/site-packages (from google-auth<3,>=1.6.3->tensorboard<2.13,>=2.12->intel-tensorflow) (0.3.0)\n",
      "Requirement already satisfied: urllib3<2.0 in /glob/development-tools/versions/oneapi/2023.1.2/oneapi/intelpython/python3.9/lib/python3.9/site-packages (from google-auth<3,>=1.6.3->tensorboard<2.13,>=2.12->intel-tensorflow) (1.26.14)\n",
      "Requirement already satisfied: rsa<5,>=3.1.4 in /home/u194055/.local/lib/python3.9/site-packages (from google-auth<3,>=1.6.3->tensorboard<2.13,>=2.12->intel-tensorflow) (4.9)\n",
      "Requirement already satisfied: cachetools<6.0,>=2.0.0 in /home/u194055/.local/lib/python3.9/site-packages (from google-auth<3,>=1.6.3->tensorboard<2.13,>=2.12->intel-tensorflow) (5.3.1)\n",
      "Requirement already satisfied: requests-oauthlib>=0.7.0 in /home/u194055/.local/lib/python3.9/site-packages (from google-auth-oauthlib<1.1,>=0.5->tensorboard<2.13,>=2.12->intel-tensorflow) (1.3.1)\n",
      "Requirement already satisfied: zipp>=0.5 in /glob/development-tools/versions/oneapi/2023.1.2/oneapi/intelpython/python3.9/lib/python3.9/site-packages (from importlib-metadata>=4.6->jax>=0.3.15->intel-tensorflow) (3.15.0)\n",
      "Requirement already satisfied: charset-normalizer<3,>=2 in /glob/development-tools/versions/oneapi/2023.1.2/oneapi/intelpython/python3.9/lib/python3.9/site-packages (from requests<3,>=2.21.0->tensorboard<2.13,>=2.12->intel-tensorflow) (2.0.4)\n",
      "Requirement already satisfied: idna<4,>=2.5 in /glob/development-tools/versions/oneapi/2023.1.2/oneapi/intelpython/python3.9/lib/python3.9/site-packages (from requests<3,>=2.21.0->tensorboard<2.13,>=2.12->intel-tensorflow) (3.4)\n",
      "Requirement already satisfied: certifi>=2017.4.17 in /glob/development-tools/versions/oneapi/2023.1.2/oneapi/intelpython/python3.9/lib/python3.9/site-packages (from requests<3,>=2.21.0->tensorboard<2.13,>=2.12->intel-tensorflow) (2022.12.7)\n",
      "Requirement already satisfied: MarkupSafe>=2.1.1 in /home/u194055/.local/lib/python3.9/site-packages (from werkzeug>=1.0.1->tensorboard<2.13,>=2.12->intel-tensorflow) (2.1.3)\n",
      "Requirement already satisfied: pyasn1<0.6.0,>=0.4.6 in /home/u194055/.local/lib/python3.9/site-packages (from pyasn1-modules>=0.2.1->google-auth<3,>=1.6.3->tensorboard<2.13,>=2.12->intel-tensorflow) (0.5.0)\n",
      "Requirement already satisfied: oauthlib>=3.0.0 in /home/u194055/.local/lib/python3.9/site-packages (from requests-oauthlib>=0.7.0->google-auth-oauthlib<1.1,>=0.5->tensorboard<2.13,>=2.12->intel-tensorflow) (3.2.2)\n"
     ]
    }
   ],
   "source": [
    "import tensorflow as tf\n",
    "from tensorflow.keras.datasets import fashion_mnist\n",
    "from tensorflow.keras.models import Sequential\n",
    "from tensorflow.keras.layers import Conv2D, MaxPooling2D, Flatten, Dense, BatchNormalization, Dropout\n",
    "from tensorflow.keras.optimizers import Adam\n",
    "from tensorflow.keras.preprocessing.image import ImageDataGenerator\n",
    "from tensorflow.keras.callbacks import LearningRateScheduler\n",
    "import os\n",
    "!pip install intel-tensorflow"
   ]
  },
  {
   "cell_type": "code",
   "execution_count": 3,
   "id": "3b74f58f-0a4d-4a8d-ab97-e3090e563ea7",
   "metadata": {},
   "outputs": [],
   "source": [
    "# Set environment variable for Intel optimization\n",
    "os.environ['TF_ENABLE_MKL_NATIVE_FORMAT'] = '1'"
   ]
  },
  {
   "cell_type": "code",
   "execution_count": 4,
   "id": "b86dd9b7-a475-4e8d-8315-74a9c12edb26",
   "metadata": {},
   "outputs": [],
   "source": [
    "# Loading data\n",
    "(x_train, y_train), (x_test, y_test) = fashion_mnist.load_data()"
   ]
  },
  {
   "cell_type": "code",
   "execution_count": 5,
   "id": "4d7c6ae0-207c-4c75-a3b3-4e658e0e1b46",
   "metadata": {},
   "outputs": [],
   "source": [
    "# Preprocessing data\n",
    "x_train = x_train.reshape((x_train.shape[0], 28, 28, 1)) / 255.0\n",
    "x_test = x_test.reshape((x_test.shape[0], 28, 28, 1)) / 255.0"
   ]
  },
  {
   "cell_type": "code",
   "execution_count": 6,
   "id": "4a0aa625-d983-4d7c-bf95-f96540af5144",
   "metadata": {},
   "outputs": [],
   "source": [
    "# Apply data augmentation\n",
    "datagen = ImageDataGenerator(rotation_range=10, width_shift_range=0.1, height_shift_range=0.1, horizontal_flip=True)\n",
    "datagen.fit(x_train)"
   ]
  },
  {
   "cell_type": "code",
   "execution_count": 7,
   "id": "6de9f040-e526-4250-bc18-4196b11a2bee",
   "metadata": {},
   "outputs": [],
   "source": [
    "# Learning rate scheduler\n",
    "def lr_schedule(epoch):\n",
    "    initial_learning_rate = 0.001\n",
    "    decay_rate = 0.9\n",
    "    decay_steps = 5\n",
    "    lr = initial_learning_rate * decay_rate**(epoch // decay_steps)\n",
    "    return lr"
   ]
  },
  {
   "cell_type": "code",
   "execution_count": 8,
   "id": "35d47490-3723-4348-95aa-c0c4891db983",
   "metadata": {},
   "outputs": [
    {
     "name": "stderr",
     "output_type": "stream",
     "text": [
      "2023-07-15 00:33:35.891347: I tensorflow/core/common_runtime/process_util.cc:146] Creating new thread pool with default inter op setting: \n"
     ]
    }
   ],
   "source": [
    "# Build the model within the strategy's scope\n",
    "model = Sequential()\n",
    "model.add(Conv2D(32, (3, 3), activation='relu', input_shape=(28, 28, 1)))\n",
    "model.add(BatchNormalization())\n",
    "model.add(Conv2D(64, (3, 3), activation='relu'))\n",
    "model.add(MaxPooling2D((2, 2)))\n",
    "model.add(BatchNormalization())\n",
    "model.add(Conv2D(128, (3, 3), activation='relu'))\n",
    "model.add(MaxPooling2D((2, 2)))\n",
    "model.add(Flatten())\n",
    "model.add(Dense(128, activation='relu'))\n",
    "model.add(Dropout(0.2))\n",
    "model.add(Dense(10, activation='softmax'))"
   ]
  },
  {
   "cell_type": "code",
   "execution_count": 9,
   "id": "d1dcf8f2-baeb-4784-a518-d0fefa5abac9",
   "metadata": {},
   "outputs": [],
   "source": [
    "# Compile the model\n",
    "model.compile(optimizer=Adam(),\n",
    "              loss='sparse_categorical_crossentropy',\n",
    "              metrics=['accuracy'])"
   ]
  },
  {
   "cell_type": "code",
   "execution_count": 10,
   "id": "0f43f013-ae40-4d80-a69c-dd3c018e4cf0",
   "metadata": {},
   "outputs": [],
   "source": [
    "# Create a learning rate scheduler callback\n",
    "lr_scheduler = LearningRateScheduler(lr_schedule)"
   ]
  },
  {
   "cell_type": "code",
   "execution_count": null,
   "id": "18047717-7529-4c02-9071-39850c52e148",
   "metadata": {},
   "outputs": [
    {
     "name": "stderr",
     "output_type": "stream",
     "text": [
      "2023-07-15 00:33:36.483709: I tensorflow/core/common_runtime/executor.cc:1197] [/device:CPU:0] (DEBUG INFO) Executor start aborting (this does not indicate an error and you can ignore this message): INVALID_ARGUMENT: You must feed a value for placeholder tensor 'Placeholder/_0' with dtype int32\n",
      "\t [[{{node Placeholder/_0}}]]\n"
     ]
    },
    {
     "name": "stdout",
     "output_type": "stream",
     "text": [
      "Epoch 1/10\n",
      "938/938 [==============================] - 328s 348ms/step - loss: 0.6518 - accuracy: 0.7579 - val_loss: 0.3979 - val_accuracy: 0.8505\n",
      "Epoch 2/10\n",
      "938/938 [==============================] - 330s 352ms/step - loss: 0.4481 - accuracy: 0.8357 - val_loss: 0.3546 - val_accuracy: 0.8674\n",
      "Epoch 3/10\n",
      "938/938 [==============================] - 328s 350ms/step - loss: 0.3905 - accuracy: 0.8580 - val_loss: 0.3142 - val_accuracy: 0.8856\n",
      "Epoch 4/10\n",
      "938/938 [==============================] - 333s 355ms/step - loss: 0.3590 - accuracy: 0.8699 - val_loss: 0.3253 - val_accuracy: 0.8786\n",
      "Epoch 5/10\n",
      "938/938 [==============================] - 321s 342ms/step - loss: 0.3404 - accuracy: 0.8778 - val_loss: 0.2830 - val_accuracy: 0.8990\n",
      "Epoch 6/10\n",
      "938/938 [==============================] - 330s 352ms/step - loss: 0.3274 - accuracy: 0.8799 - val_loss: 0.2700 - val_accuracy: 0.9034\n",
      "Epoch 7/10\n",
      "938/938 [==============================] - 330s 351ms/step - loss: 0.3161 - accuracy: 0.8868 - val_loss: 0.2749 - val_accuracy: 0.9018\n",
      "Epoch 8/10\n",
      "938/938 [==============================] - 307s 327ms/step - loss: 0.2984 - accuracy: 0.8915 - val_loss: 0.2772 - val_accuracy: 0.9022\n",
      "Epoch 9/10\n",
      "938/938 [==============================] - 325s 347ms/step - loss: 0.2943 - accuracy: 0.8934 - val_loss: 0.2878 - val_accuracy: 0.8989\n",
      "Epoch 10/10\n",
      "147/938 [===>..........................] - ETA: 3:41 - loss: 0.2781 - accuracy: 0.9004"
     ]
    }
   ],
   "source": [
    "# Train model\n",
    "model.fit(datagen.flow(x_train, y_train, batch_size=64), epochs=10, validation_data=(x_test, y_test))"
   ]
  },
  {
   "cell_type": "code",
   "execution_count": null,
   "id": "5cf2e80d-f3f5-40c7-aa9a-443a06efd7a5",
   "metadata": {},
   "outputs": [],
   "source": [
    "# Evaluate model\n",
    "test_loss, test_acc = model.evaluate(x_test, y_test)\n",
    "print('Test accuracy:', test_acc)"
   ]
  },
  {
   "cell_type": "code",
   "execution_count": null,
   "id": "98263667-4fa2-45b5-b51a-64d3720b98e8",
   "metadata": {},
   "outputs": [],
   "source": [
    "# Save the model\n",
    "model.save('final_model.h5')"
   ]
  },
  {
   "cell_type": "code",
   "execution_count": null,
   "id": "13e1b759-6313-4951-93fb-d6fce8704101",
   "metadata": {},
   "outputs": [],
   "source": []
  }
 ],
 "metadata": {
  "kernelspec": {
   "display_name": "Tensorflow (AI kit)",
   "language": "python",
   "name": "c009-intel_distribution_of_python_3_oneapi-beta05-tf"
  },
  "language_info": {
   "codemirror_mode": {
    "name": "ipython",
    "version": 3
   },
   "file_extension": ".py",
   "mimetype": "text/x-python",
   "name": "python",
   "nbconvert_exporter": "python",
   "pygments_lexer": "ipython3",
   "version": "3.9.16"
  }
 },
 "nbformat": 4,
 "nbformat_minor": 5
}
